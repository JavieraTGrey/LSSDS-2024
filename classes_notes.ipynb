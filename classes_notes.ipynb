{
 "cells": [
  {
   "cell_type": "markdown",
   "id": "dbbde336-4d75-43cf-a6eb-0c9fcc8f507f",
   "metadata": {},
   "source": [
    "# LSSDS 2024: Notes on clases"
   ]
  },
  {
   "cell_type": "markdown",
   "id": "d677fa42-b9d8-4895-8ac0-8f406681af9a",
   "metadata": {},
   "source": [
    "## August-19"
   ]
  },
  {
   "cell_type": "markdown",
   "id": "41f08faa-92f7-4fad-bea1-e62d74b4028f",
   "metadata": {
    "jp-MarkdownHeadingCollapsed": true
   },
   "source": [
    "### Introduction to Data Science by Federica Bianco (University of Delaware fbianco@udel.edu)"
   ]
  },
  {
   "cell_type": "markdown",
   "id": "69ff3c71-cf2e-4611-80b7-f8c76772f6aa",
   "metadata": {},
   "source": [
    "What is Data Science?\n",
    "- Domain, Computer Science and Maths meet. A science that it is always growing, finding new problems and solutions, have in mind that learning models or the interpretation data may lead to badly repercussion in real life.\n",
    "\n",
    "Data Science Life Cycle\n",
    "- Scientific Question\n",
    "- Data Collection\n",
    "- Data exploraation (properties extraction)\n",
    "- Data engineering (cleaning, wrangling)\n",
    "- Modeling (ML models, supervised or unsupervised)\n",
    "\n",
    "Data Science Ethics\n",
    "As ML models learn from a dataset, a badly constructed dataset may lead to racist, sexist interpretations (Face recognition algorithms). Also as the models are mostly written in english, ML models may be bias to western culture and languages, keeping in the shadow every other culture or country that doesnt speak english fluently.\n",
    "Finally, data security and human rights can be violated as there arent laws regulating the use of AI or ML models for police, goverments and business.\n",
    "\n",
    "What we can do is keep all this in mind to create AI and ML models that try to asses these issues, like Aya, a multi-languange-ML AI (can translate to 101 languages besides english)"
   ]
  },
  {
   "cell_type": "markdown",
   "id": "2fa94ae0-a059-461b-8ba1-7d8c5bbf6f1a",
   "metadata": {
    "jp-MarkdownHeadingCollapsed": true
   },
   "source": [
    "### Tutorial for git and conda by Assistant profesors Martina Cadiz (Universidad de Chile) and Nicolás Monsalves (Universidad de la Serena)"
   ]
  },
  {
   "cell_type": "markdown",
   "id": "8c716962-3985-480a-8cb8-768edcbf6298",
   "metadata": {},
   "source": [
    "There's going to be a github repository for us to see notes, exercises, theretical notes, etc. Check https://github.com/lssds2024/lssds2024"
   ]
  },
  {
   "cell_type": "markdown",
   "id": "841b6a53-87b4-4962-b5f8-89e6958f6115",
   "metadata": {},
   "source": [
    "### Projects and groups"
   ]
  },
  {
   "cell_type": "markdown",
   "id": "d54d9b72-2aaa-4ad0-9ce1-6865533aa30b",
   "metadata": {},
   "source": [
    "Group by 4 people, create a title for the group, and decide as a group which proyects we want\n",
    "\n",
    "Group5 : Name to be decided soon\n",
    "- Karina Barboza\n",
    "- Ian Espinal\n",
    "- Nicolas Henriquez\n",
    "- and me <3"
   ]
  },
  {
   "cell_type": "markdown",
   "id": "8e3d5422-b628-43da-9d95-cdc52ecd631b",
   "metadata": {},
   "source": [
    "PROYECT 1: will AI replace astronomers?, Create an AI astronomer that can answer stuff about a light curve, the important thing is the visual question answering model.\n",
    "\n",
    "BLIP-2 models.\n",
    "\n",
    "\n",
    "Mathew Pattol"
   ]
  },
  {
   "cell_type": "markdown",
   "id": "a0d9ae3c-1789-4675-a1df-c95853064779",
   "metadata": {},
   "source": [
    "PROYECT 2: Find exocomets by emission lines by the optically thin material emerging by the comet near a star. \n",
    "\n",
    "\n",
    "Amelia Bayo"
   ]
  },
  {
   "cell_type": "markdown",
   "id": "ca407c28-5b35-4de7-8ef3-01559f061cf2",
   "metadata": {},
   "source": [
    "PROYECT 3: Create a unsupervised ML model for ESO papers to be recognize and related (map of related papers), but there are some problems with clustering papers as words like ALMA can mean a lot of things.\n",
    "\n",
    "\n",
    "Use models like BERT, AstroBERT, etc. (Grezers et al., 2021)\n",
    "\n",
    "Amelia Bayo"
   ]
  },
  {
   "cell_type": "markdown",
   "id": "870f6bf0-f173-456b-997c-15c06c9f7c05",
   "metadata": {},
   "source": [
    "PROYECT 4: Kolmogorov-Arnold Networks (KANs) a new neural network. Find photometric redshifts with KANs and compare them to the other solutions that were acceptable before. (LIKEY)\n",
    "\n",
    "\n",
    "Matthew"
   ]
  },
  {
   "cell_type": "markdown",
   "id": "014644fa-90b0-4c52-82a0-cc966f8803c8",
   "metadata": {},
   "source": [
    "PROYECT 5: Explore using sonification techniques to indentify different aural patterns for types of transients (SNovae) and compare against visual techniques.\n",
    "\n",
    "Matthew"
   ]
  },
  {
   "cell_type": "markdown",
   "id": "c6f36e07-67ba-4149-a820-23b2ae4eb3ba",
   "metadata": {},
   "source": [
    "PROYECT 6: Deploy a service like CHATGPT with information of something, to be able to access the data ina easier way.\n",
    "\n",
    "Focused on middleware, the data exploration part of the data, and the engineering behind the modeling part"
   ]
  },
  {
   "cell_type": "markdown",
   "id": "a34f1773-e82f-42d6-aa1e-c3a26525144a",
   "metadata": {},
   "source": [
    "PROYECT 7: White matter hyperintensities segmentation in MRI images, create a model that can identify the white spots and classify if the damage is important or not. (damage quantifycation)\n",
    "\n",
    "Mauricio"
   ]
  },
  {
   "cell_type": "markdown",
   "id": "fc1fed12-6798-45e6-8e0a-80c1d5f19a94",
   "metadata": {},
   "source": [
    "PROYECT 8: Refining YSO classification from ALeRCE, classify the alerts in different objects and which parameters gives you that. We need to improve the broker and add more classification for YSO. (taxonomy)\n",
    "\n",
    "Amelia Bayo"
   ]
  },
  {
   "cell_type": "markdown",
   "id": "eb73d603-4c29-4676-967f-15453b9e84f7",
   "metadata": {},
   "source": []
  }
 ],
 "metadata": {
  "kernelspec": {
   "display_name": "Python 3 (ipykernel)",
   "language": "python",
   "name": "python3"
  },
  "language_info": {
   "codemirror_mode": {
    "name": "ipython",
    "version": 3
   },
   "file_extension": ".py",
   "mimetype": "text/x-python",
   "name": "python",
   "nbconvert_exporter": "python",
   "pygments_lexer": "ipython3",
   "version": "3.12.4"
  }
 },
 "nbformat": 4,
 "nbformat_minor": 5
}
